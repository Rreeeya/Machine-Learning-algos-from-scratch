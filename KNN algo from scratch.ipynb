{
 "cells": [
  {
   "cell_type": "code",
   "execution_count": 76,
   "metadata": {},
   "outputs": [],
   "source": [
    "#import libraries and datasets\n",
    "\n",
    "import numpy as np\n",
    "import pandas as pd\n",
    "from sklearn import datasets\n",
    "from sklearn.model_selection import train_test_split\n",
    "from matplotlib import pyplot as plt\n",
    "from collections import Counter\n",
    "from sklearn.metrics import accuracy_score, f1_score, precision_score, recall_score"
   ]
  },
  {
   "cell_type": "code",
   "execution_count": 128,
   "metadata": {},
   "outputs": [],
   "source": [
    "from sklearn.neighbors import KNeighborsClassifier"
   ]
  },
  {
   "cell_type": "code",
   "execution_count": 82,
   "metadata": {},
   "outputs": [],
   "source": [
    "#create knn class model\n",
    "\n",
    "def euc_dist(x1, x2):\n",
    "    return np.sqrt(np.sum((x1-x2)**2))\n",
    "    \n",
    "class knn:\n",
    "    def __init__(self, k):\n",
    "        self.k = k\n",
    "        \n",
    "    def fit(self,X,y):\n",
    "        #store X and y into variables\n",
    "        self.X_train = X\n",
    "        self.y_train = y \n",
    "    \n",
    "    def predict(self,X):\n",
    "        #X has multiple values\n",
    "        pred = [self.knn_algo(x) for x in X] \n",
    "        #in the form of a list so convert into a array\n",
    "        return np.array(pred)\n",
    "        \n",
    "    def knn_algo(self,x):\n",
    "        '''Calculate distances.\n",
    "        Find the nearest ones (indices and labels) \n",
    "        Find the majority of the nearest ones'''\n",
    "        distance = [euc_dist(x, xtr) for xtr in self.X_train]\n",
    "        indices = np.argsort(distance)[:self.k]\n",
    "        labels = [self.y_train[i] for i in indices]\n",
    "        majority = Counter(labels).most_common(1)\n",
    "        return majority[0][0]     \n",
    "    \n",
    "    "
   ]
  },
  {
   "cell_type": "code",
   "execution_count": 83,
   "metadata": {},
   "outputs": [],
   "source": [
    "#import the data and perform train test split\n",
    "\n",
    "data_iris = datasets.load_iris()"
   ]
  },
  {
   "cell_type": "code",
   "execution_count": 65,
   "metadata": {},
   "outputs": [],
   "source": [
    "X, y = data_iris.data, data_iris.target"
   ]
  },
  {
   "cell_type": "code",
   "execution_count": 66,
   "metadata": {},
   "outputs": [
    {
     "data": {
      "text/plain": [
       "(150, 4)"
      ]
     },
     "execution_count": 66,
     "metadata": {},
     "output_type": "execute_result"
    }
   ],
   "source": [
    "X.shape"
   ]
  },
  {
   "cell_type": "code",
   "execution_count": 67,
   "metadata": {},
   "outputs": [],
   "source": [
    "X_train,X_test, y_train, y_test = train_test_split(X, y, test_size = 0.2, random_state = 32)"
   ]
  },
  {
   "cell_type": "code",
   "execution_count": 68,
   "metadata": {
    "scrolled": true
   },
   "outputs": [
    {
     "name": "stdout",
     "output_type": "stream",
     "text": [
      "(120, 4)\n",
      "(120,)\n",
      "(30, 4)\n",
      "(30,)\n"
     ]
    }
   ],
   "source": [
    "print(X_train.shape)\n",
    "print(y_train.shape)\n",
    "print(X_test.shape)\n",
    "print(y_test.shape)"
   ]
  },
  {
   "cell_type": "code",
   "execution_count": 69,
   "metadata": {
    "scrolled": true
   },
   "outputs": [
    {
     "data": {
      "text/plain": [
       "['sepal length (cm)',\n",
       " 'sepal width (cm)',\n",
       " 'petal length (cm)',\n",
       " 'petal width (cm)']"
      ]
     },
     "execution_count": 69,
     "metadata": {},
     "output_type": "execute_result"
    }
   ],
   "source": [
    "data_iris.feature_names"
   ]
  },
  {
   "cell_type": "code",
   "execution_count": 90,
   "metadata": {},
   "outputs": [
    {
     "data": {
      "text/plain": [
       "array(['setosa', 'versicolor', 'virginica'], dtype='<U10')"
      ]
     },
     "execution_count": 90,
     "metadata": {},
     "output_type": "execute_result"
    }
   ],
   "source": [
    "data_iris.target_names"
   ]
  },
  {
   "cell_type": "code",
   "execution_count": 70,
   "metadata": {},
   "outputs": [
    {
     "data": {
      "text/plain": [
       "<matplotlib.collections.PathCollection at 0xd8f0e1cc48>"
      ]
     },
     "execution_count": 70,
     "metadata": {},
     "output_type": "execute_result"
    },
    {
     "data": {
      "image/png": "[encoded data removed]",
      "text/plain": [
       "<Figure size 432x288 with 1 Axes>"
      ]
     },
     "metadata": {
      "needs_background": "light"
     },
     "output_type": "display_data"
    }
   ],
   "source": [
    "plt.scatter(X[:,0], X[:,1], c= y, cmap = ('rainbow_r'))"
   ]
  },
  {
   "cell_type": "code",
   "execution_count": 138,
   "metadata": {},
   "outputs": [],
   "source": [
    "#call the function and implement knn\n",
    "\n",
    "nearest_neighbour = knn(k=7)\n",
    "nearest_neighbour.fit(X_train, y_train)\n",
    "k_pred = nearest_neighbour.predict(X_test)"
   ]
  },
  {
   "cell_type": "code",
   "execution_count": 139,
   "metadata": {},
   "outputs": [
    {
     "name": "stdout",
     "output_type": "stream",
     "text": [
      "Accuracy =  0.9666666666666667\n",
      "Precision =  0.9666666666666667\n",
      "Recall =  0.9666666666666667\n",
      "F1_score =  0.9666666666666667\n"
     ]
    }
   ],
   "source": [
    "#find metrics: Accuracy, F1 score, Precision and Recall\n",
    "\n",
    "accuracy = accuracy_score(y_test, k_pred)\n",
    "print(\"Accuracy = \", accuracy)\n",
    "precision = precision_score(y_test, k_pred, average='micro')\n",
    "print(\"Precision = \", precision)\n",
    "recall = recall_score(y_test, k_pred, average = 'micro')\n",
    "print(\"Recall = \", recall)\n",
    "F1_score = f1_score(y_test, k_pred, average = 'micro')\n",
    "print(\"F1_score = \", F1_score)"
   ]
  },
  {
   "cell_type": "code",
   "execution_count": 140,
   "metadata": {},
   "outputs": [],
   "source": [
    "#Comparing the performance with KNN algorithm from sklearn\n",
    "\n",
    "sk_knn = KNeighborsClassifier(n_neighbors=7)\n",
    "sk_knn.fit(X_train, y_train)\n",
    "sk_pred = sk_knn.predict(X_test)"
   ]
  },
  {
   "cell_type": "code",
   "execution_count": 141,
   "metadata": {},
   "outputs": [
    {
     "name": "stdout",
     "output_type": "stream",
     "text": [
      "Accuracy =  0.9666666666666667\n",
      "Precision =  0.9666666666666667\n",
      "Recall =  0.9666666666666667\n",
      "F1_score =  0.9666666666666667\n"
     ]
    }
   ],
   "source": [
    "accuracy = accuracy_score(y_test, sk_pred)\n",
    "print(\"Accuracy = \", accuracy)\n",
    "precision = precision_score(y_test, sk_pred, average='micro')\n",
    "print(\"Precision = \", precision)\n",
    "recall = recall_score(y_test, sk_pred, average = 'micro')\n",
    "print(\"Recall = \", recall)\n",
    "F1_score = f1_score(y_test, sk_pred, average = 'micro')\n",
    "print(\"F1_score = \", F1_score)"
   ]
  },
  {
   "cell_type": "markdown",
   "metadata": {},
   "source": [
    "Hardcoding KNN gives same results as SciKit Learn's KNN Classifier for the iris dataset"
   ]
  },
  {
   "cell_type": "code",
   "execution_count": 149,
   "metadata": {},
   "outputs": [
    {
     "data": {
      "text/plain": [
       "'C:\\\\Users\\\\Reya'"
      ]
     },
     "execution_count": 149,
     "metadata": {},
     "output_type": "execute_result"
    }
   ],
   "source": [
    "import os\n",
    "os.getcwd()"
   ]
  },
  {
   "cell_type": "code",
   "execution_count": null,
   "metadata": {},
   "outputs": [],
   "source": []
  }
 ],
 "metadata": {
  "kernelspec": {
   "display_name": "Python 3",
   "language": "python",
   "name": "python3"
  },
  "language_info": {
   "codemirror_mode": {
    "name": "ipython",
    "version": 3
   },
   "file_extension": ".py",
   "mimetype": "text/x-python",
   "name": "python",
   "nbconvert_exporter": "python",
   "pygments_lexer": "ipython3",
   "version": "3.7.4"
  }
 },
 "nbformat": 4,
 "nbformat_minor": 2
}
